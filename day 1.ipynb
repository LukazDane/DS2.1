{
 "cells": [
  {
   "cell_type": "markdown",
   "metadata": {},
   "source": [
    "Activity for Data Scaling: Max_Min Scaler\n",
    "You will do this activity in groups of 4\n",
    "\n",
    "A two dimensional array (Matrix) X is given, write a function max_min_s that for each column:\n",
    "\n",
    "Obtains the minimum value of the column (min)\n",
    "Obtains the range of the column (range)\n",
    "For each value in the column, calculate the following: (value-min)/range\n",
    "Remember: the range is the difference between the maximum element and minimum element of each column\n",
    "\n",
    "Use this dataset as an example input to your function: X_train = np.array([[1000.0, 2.0], [1500.0, 3.0]])"
   ]
  },
  {
   "cell_type": "code",
   "execution_count": 17,
   "metadata": {},
   "outputs": [
    {
     "name": "stdout",
     "output_type": "stream",
     "text": [
      "[[0. 0.]\n",
      " [1. 1.]]\n"
     ]
    }
   ],
   "source": [
    "import numpy as np\n",
    "x_train = np.array([[1000.0, 2.0], [1500.0, 3.0]])\n",
    "\n",
    "def min_max(x):\n",
    "  low = x.min(axis=0)\n",
    "  high = x.max(axis=0)\n",
    "  rg = high - low\n",
    "  return (x-low)/rg\n",
    "\n",
    "print(min_max(x_train))"
   ]
  },
  {
   "cell_type": "markdown",
   "metadata": {},
   "source": [
    "Activity for Data Scaling: Standard Scaler\n",
    "You will do this activity in groups of 4\n",
    "\n",
    "A two dimensional array (Matrix) X is given, write a function that for each column:\n",
    "\n",
    "Obtain the mean for the column (mean)\n",
    "Obtain the standard deviation for the column (std)\n",
    "For each value in the column, calculate the following: (value - mean)/std\n",
    "We will use breakout rooms in Zoom for group work!"
   ]
  },
  {
   "cell_type": "code",
   "execution_count": 13,
   "metadata": {},
   "outputs": [
    {
     "name": "stdout",
     "output_type": "stream",
     "text": [
      "[[-1. -1.]\n",
      " [ 1.  1.]]\n"
     ]
    }
   ],
   "source": [
    "def std_s(x):\n",
    "    xm = x.mean(axis=0)\n",
    "    xs = x.std(axis=0)\n",
    "    return (x - xm) /xs\n",
    "\n",
    "print(std_s(x_train))"
   ]
  },
  {
   "cell_type": "code",
   "execution_count": null,
   "metadata": {},
   "outputs": [],
   "source": []
  }
 ],
 "metadata": {
  "kernelspec": {
   "display_name": "Python 3",
   "language": "python",
   "name": "python3"
  },
  "language_info": {
   "codemirror_mode": {
    "name": "ipython",
    "version": 3
   },
   "file_extension": ".py",
   "mimetype": "text/x-python",
   "name": "python",
   "nbconvert_exporter": "python",
   "pygments_lexer": "ipython3",
   "version": "3.8.1"
  }
 },
 "nbformat": 4,
 "nbformat_minor": 4
}
