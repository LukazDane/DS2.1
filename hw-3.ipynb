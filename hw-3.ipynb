{
 "cells": [
  {
   "cell_type": "markdown",
   "metadata": {},
   "source": [
    "##### TASK: Read in wholesale_customers_data.csv from the datasets folder and store in a dataframe. Store the Channel column in a separate variable, and then drop the Channel and Region columns from the dataframe. Scale the data and use PCA to engineer new features (Principal Components). Print out the explained variance for each principal component.\n",
    "\n",
    "##### K-Means, but Without All the Supervision\n",
    "###### Challenge: Use K-Means clustering on the wholesale_customers dataset, and then again on a version of this dataset transformed by PCA.\n",
    "\n",
    "1. Read in the data from the wholesale_customers_data.csv file contained within the datasets folder.\n",
    "\n",
    "2. Store the Channel column in a separate variable, and then drop the Region and Channel columns from the dataframe. Channel will act as our labels to tell us what class of customer each datapoint actually is, in case we want to check the accuracy of our clustering.\n",
    "\n",
    "3. Scale the data, fit a k-means object to it, and then visualize the data and the clustering.\n",
    "\n",
    "4. Use PCA to transform the data, and then use k-means clustering on it to see if our results are any better.\n",
    "\n",
    "###### Challenge: Use the confusion matrix function to create a confusion matrix and see how accurate our clustering algorithms were. Which did better--scaled data, or data transformed by PCA?"
   ]
  },
  {
   "cell_type": "code",
   "execution_count": 27,
   "metadata": {},
   "outputs": [],
   "source": [
    "#######################################\n",
    "############### Imports ###############\n",
    "import pandas as pd\n",
    "from sklearn import preprocessing\n",
    "from sklearn.preprocessing import StandardScaler\n",
    "from sklearn.decomposition import PCA\n",
    "from sklearn.cluster import KMeans\n",
    "from scipy.spatial import distance\n",
    "import matplotlib.pyplot as plt\n",
    "from sklearn import metrics\n",
    "#######################################\n",
    "\n",
    "#read csv\n",
    "df = pd.read_csv('wholesale_customers_data.csv')\n",
    "# store channel col as it's own var\n",
    "channel = df.Channel"
   ]
  },
  {
   "cell_type": "code",
   "execution_count": 2,
   "metadata": {},
   "outputs": [],
   "source": [
    "#drop channel and region cols\n",
    "df = df.drop(columns=['Channel', 'Region'])"
   ]
  },
  {
   "cell_type": "code",
   "execution_count": 3,
   "metadata": {},
   "outputs": [
    {
     "data": {
      "text/html": [
       "<div>\n",
       "<style scoped>\n",
       "    .dataframe tbody tr th:only-of-type {\n",
       "        vertical-align: middle;\n",
       "    }\n",
       "\n",
       "    .dataframe tbody tr th {\n",
       "        vertical-align: top;\n",
       "    }\n",
       "\n",
       "    .dataframe thead th {\n",
       "        text-align: right;\n",
       "    }\n",
       "</style>\n",
       "<table border=\"1\" class=\"dataframe\">\n",
       "  <thead>\n",
       "    <tr style=\"text-align: right;\">\n",
       "      <th></th>\n",
       "      <th>Fresh</th>\n",
       "      <th>Milk</th>\n",
       "      <th>Grocery</th>\n",
       "      <th>Frozen</th>\n",
       "      <th>Detergents_Paper</th>\n",
       "      <th>Delicassen</th>\n",
       "    </tr>\n",
       "  </thead>\n",
       "  <tbody>\n",
       "    <tr>\n",
       "      <th>0</th>\n",
       "      <td>12669</td>\n",
       "      <td>9656</td>\n",
       "      <td>7561</td>\n",
       "      <td>214</td>\n",
       "      <td>2674</td>\n",
       "      <td>1338</td>\n",
       "    </tr>\n",
       "    <tr>\n",
       "      <th>1</th>\n",
       "      <td>7057</td>\n",
       "      <td>9810</td>\n",
       "      <td>9568</td>\n",
       "      <td>1762</td>\n",
       "      <td>3293</td>\n",
       "      <td>1776</td>\n",
       "    </tr>\n",
       "    <tr>\n",
       "      <th>2</th>\n",
       "      <td>6353</td>\n",
       "      <td>8808</td>\n",
       "      <td>7684</td>\n",
       "      <td>2405</td>\n",
       "      <td>3516</td>\n",
       "      <td>7844</td>\n",
       "    </tr>\n",
       "    <tr>\n",
       "      <th>3</th>\n",
       "      <td>13265</td>\n",
       "      <td>1196</td>\n",
       "      <td>4221</td>\n",
       "      <td>6404</td>\n",
       "      <td>507</td>\n",
       "      <td>1788</td>\n",
       "    </tr>\n",
       "    <tr>\n",
       "      <th>4</th>\n",
       "      <td>22615</td>\n",
       "      <td>5410</td>\n",
       "      <td>7198</td>\n",
       "      <td>3915</td>\n",
       "      <td>1777</td>\n",
       "      <td>5185</td>\n",
       "    </tr>\n",
       "  </tbody>\n",
       "</table>\n",
       "</div>"
      ],
      "text/plain": [
       "   Fresh  Milk  Grocery  Frozen  Detergents_Paper  Delicassen\n",
       "0  12669  9656     7561     214              2674        1338\n",
       "1   7057  9810     9568    1762              3293        1776\n",
       "2   6353  8808     7684    2405              3516        7844\n",
       "3  13265  1196     4221    6404               507        1788\n",
       "4  22615  5410     7198    3915              1777        5185"
      ]
     },
     "execution_count": 3,
     "metadata": {},
     "output_type": "execute_result"
    }
   ],
   "source": [
    "df.head(5)"
   ]
  },
  {
   "cell_type": "code",
   "execution_count": 4,
   "metadata": {},
   "outputs": [
    {
     "name": "stdout",
     "output_type": "stream",
     "text": [
      "[[ 0.053  0.524 -0.041 -0.589 -0.044 -0.066]\n",
      " [-0.391  0.544  0.17  -0.27   0.086  0.089]\n",
      " [-0.447  0.409 -0.028 -0.138  0.133  2.243]\n",
      " ...\n",
      " [ 0.2    1.315  2.348 -0.543  2.511  0.121]\n",
      " [-0.135 -0.518 -0.603 -0.419 -0.57   0.213]\n",
      " [-0.729 -0.556 -0.573 -0.62  -0.505 -0.523]]\n"
     ]
    }
   ],
   "source": [
    "#scale & fit\n",
    "ss = preprocessing.StandardScaler()\n",
    "X_ss = ss.fit_transform(df)\n",
    "print(X_ss.round(3))"
   ]
  },
  {
   "cell_type": "code",
   "execution_count": 5,
   "metadata": {},
   "outputs": [
    {
     "name": "stdout",
     "output_type": "stream",
     "text": [
      "[2.65099857 1.70646229 0.74175057 0.56501435 0.28632709 0.06311455]\n"
     ]
    }
   ],
   "source": [
    "#fit & pca\n",
    "pca = PCA(n_components=6)\n",
    "X_r = pca.fit_transform(X_ss)\n",
    "print(pca.explained_variance_)"
   ]
  },
  {
   "cell_type": "code",
   "execution_count": 6,
   "metadata": {},
   "outputs": [
    {
     "data": {
      "image/png": "[encoded data removed]",
      "text/plain": [
       "<Figure size 432x288 with 1 Axes>"
      ]
     },
     "metadata": {
      "needs_background": "light"
     },
     "output_type": "display_data"
    }
   ],
   "source": [
    "s2d = []\n",
    "K = range(1,15)\n",
    "for _ in K:\n",
    "    km = KMeans(n_clusters=_,\n",
    "                #verbose=True\n",
    "                # using verbose reveals decreasing inertia after each itteration. IF kmeans function is meant to reduce inertia between iterations, we can assume the code is correct, or at the minimum is more correct than previous.\n",
    "               )\n",
    "    km.fit(X_ss)\n",
    "    # TODO: Review before final:\n",
    "    # https://scikit-learn.org/stable/modules/clustering.html\n",
    "    # The K-means algorithm aims to choose centroids that 'minimise' the inertia, or within-cluster sum-of-squares criterion:\n",
    "    s2d.append(km.inertia_)\n",
    "\n",
    "plt.plot(K, s2d, 'bx-')\n",
    "plt.xlabel('k')\n",
    "plt.ylabel('Distortion')\n",
    "plt.title('Optimal k')\n",
    "plt.show()\n"
   ]
  },
  {
   "cell_type": "code",
   "execution_count": 22,
   "metadata": {},
   "outputs": [
    {
     "name": "stdout",
     "output_type": "stream",
     "text": [
      "[[-2.26210045e-01 -3.83838729e-01 -4.39661671e-01 -9.84612171e-02\n",
      "  -4.01401729e-01 -1.92636827e-01]\n",
      " [ 3.88728973e-01  3.94304862e+00  4.02164626e+00  3.57841274e-02\n",
      "   4.22611641e+00  9.41635735e-01]\n",
      " [ 1.90499917e+00 -9.40159310e-02 -1.77712819e-01  6.18997444e-01\n",
      "  -3.80378981e-01  3.89287623e-01]\n",
      " [-5.28098803e-01  6.46715342e-01  9.01243195e-01 -3.43883182e-01\n",
      "   9.12667333e-01  3.21492215e-02]\n",
      " [ 1.96681731e+00  5.17550306e+00  1.28721685e+00  6.90059988e+00\n",
      "  -5.54861977e-01  1.64784475e+01]\n",
      " [ 7.92784210e-01  5.61685048e-01 -1.13014360e-02  9.25255676e+00\n",
      "  -4.64047057e-01  9.33164138e-01]]\n"
     ]
    }
   ],
   "source": [
    "km = KMeans(n_clusters=6)\n",
    "km.fit(X_ss)\n",
    "print(km.cluster_centers_)"
   ]
  },
  {
   "cell_type": "code",
   "execution_count": 23,
   "metadata": {},
   "outputs": [
    {
     "data": {
      "text/plain": [
       "array([0, 3, 3, 0, 2, 0, 0, 0, 0, 3, 3, 0, 2, 3, 3, 0, 3, 0, 0, 0, 0, 0,\n",
       "       2, 1, 2, 0, 0, 0, 3, 2, 0, 0, 0, 2, 0, 3, 2, 3, 3, 2, 2, 0, 3, 3,\n",
       "       3, 3, 3, 1, 3, 3, 0, 0, 2, 3, 2, 0, 1, 3, 0, 0, 0, 1, 0, 3, 0, 1,\n",
       "       0, 3, 0, 0, 0, 2, 0, 2, 0, 0, 0, 3, 0, 0, 0, 3, 3, 0, 0, 1, 1, 2,\n",
       "       0, 2, 0, 0, 1, 5, 3, 0, 0, 0, 0, 0, 3, 3, 0, 2, 0, 0, 3, 3, 0, 3,\n",
       "       0, 3, 2, 0, 0, 0, 0, 0, 0, 0, 0, 0, 0, 0, 2, 2, 0, 0, 0, 2, 0, 0,\n",
       "       0, 0, 0, 0, 0, 0, 0, 0, 0, 2, 2, 0, 0, 3, 0, 0, 0, 2, 0, 0, 0, 0,\n",
       "       0, 3, 3, 0, 3, 3, 3, 0, 0, 3, 0, 3, 3, 0, 0, 0, 3, 3, 0, 3, 0, 3,\n",
       "       2, 0, 0, 0, 0, 2, 3, 4, 0, 0, 0, 0, 3, 3, 0, 0, 0, 3, 0, 0, 2, 3,\n",
       "       0, 0, 3, 3, 2, 0, 0, 3, 0, 0, 0, 3, 0, 1, 0, 0, 3, 3, 3, 0, 3, 0,\n",
       "       0, 3, 0, 0, 0, 0, 0, 0, 0, 0, 0, 0, 0, 0, 0, 0, 0, 0, 0, 2, 2, 0,\n",
       "       0, 0, 3, 3, 0, 0, 0, 0, 0, 1, 0, 2, 3, 2, 0, 0, 2, 2, 0, 0, 0, 0,\n",
       "       3, 3, 3, 0, 3, 0, 0, 0, 0, 2, 0, 0, 2, 0, 0, 0, 0, 0, 2, 2, 2, 2,\n",
       "       0, 0, 0, 2, 0, 0, 0, 3, 0, 0, 0, 0, 0, 0, 0, 3, 3, 3, 3, 3, 3, 0,\n",
       "       0, 3, 0, 2, 3, 0, 0, 3, 0, 0, 0, 3, 0, 0, 0, 0, 2, 5, 0, 0, 0, 0,\n",
       "       0, 3, 0, 1, 2, 2, 0, 0, 0, 0, 3, 3, 0, 3, 0, 0, 3, 2, 0, 3, 0, 3,\n",
       "       0, 3, 0, 0, 0, 3, 0, 0, 0, 0, 0, 0, 0, 0, 0, 0, 0, 0, 2, 0, 0, 0,\n",
       "       0, 0, 3, 2, 0, 0, 2, 0, 2, 0, 3, 0, 0, 0, 0, 0, 0, 0, 0, 2, 0, 0,\n",
       "       3, 0, 0, 0, 0, 2, 0, 0, 0, 0, 2, 3, 0, 0, 0, 0, 0, 0, 0, 0, 3, 0,\n",
       "       3, 0, 3, 0, 0, 0, 0, 0, 3, 2, 0, 0, 0, 0, 0, 0, 0, 2, 2, 3, 0, 0],\n",
       "      dtype=int32)"
      ]
     },
     "execution_count": 23,
     "metadata": {},
     "output_type": "execute_result"
    }
   ],
   "source": [
    "y_km = km.predict(X_ss)\n",
    "y_km"
   ]
  },
  {
   "cell_type": "code",
   "execution_count": 24,
   "metadata": {},
   "outputs": [
    {
     "data": {
      "text/plain": [
       "<matplotlib.collections.PathCollection at 0x7fdf17185e90>"
      ]
     },
     "execution_count": 24,
     "metadata": {},
     "output_type": "execute_result"
    },
    {
     "data": {
      "image/png": "[encoded data removed]",
      "text/plain": [
       "<Figure size 432x288 with 1 Axes>"
      ]
     },
     "metadata": {
      "needs_background": "light"
     },
     "output_type": "display_data"
    }
   ],
   "source": [
    "plt.scatter(X_ss[:, 0], X_ss[:, 1])\n"
   ]
  },
  {
   "cell_type": "code",
   "execution_count": 26,
   "metadata": {},
   "outputs": [],
   "source": [
    "# print(km.cluster_centers_)"
   ]
  },
  {
   "cell_type": "code",
   "execution_count": 37,
   "metadata": {},
   "outputs": [],
   "source": [
    "#confusion matrix\n",
    "# y_test =\n",
    "# y_pred = y_km\n",
    "# confusion = metrics.confusion_matrix(y_test, y_pred)\n",
    "# print(confusion)\n"
   ]
  },
  {
   "cell_type": "code",
   "execution_count": null,
   "metadata": {},
   "outputs": [],
   "source": []
  }
 ],
 "metadata": {
  "kernelspec": {
   "display_name": "Python 3",
   "language": "python",
   "name": "python3"
  },
  "language_info": {
   "codemirror_mode": {
    "name": "ipython",
    "version": 3
   },
   "file_extension": ".py",
   "mimetype": "text/x-python",
   "name": "python",
   "nbconvert_exporter": "python",
   "pygments_lexer": "ipython3",
   "version": "3.7.6"
  }
 },
 "nbformat": 4,
 "nbformat_minor": 4
}
